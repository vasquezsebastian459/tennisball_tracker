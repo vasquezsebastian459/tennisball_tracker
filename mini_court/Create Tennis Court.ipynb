{
 "cells": [
  {
   "cell_type": "markdown",
   "id": "10284755-da52-4f4a-9354-d001d1647dc6",
   "metadata": {},
   "source": [
    "# Create Syntetic Tennis Court"
   ]
  },
  {
   "cell_type": "code",
   "execution_count": 2,
   "id": "eac8d4e2-0291-4635-aba2-6a6efe824fb6",
   "metadata": {
    "tags": []
   },
   "outputs": [
    {
     "name": "stdout",
     "output_type": "stream",
     "text": [
      "82\n",
      "109\n",
      "118\n",
      "64\n",
      "13\n",
      "54\n"
     ]
    },
    {
     "data": {
      "image/png": "[encoded data removed]",
      "text/plain": [
       "<Figure size 640x480 with 1 Axes>"
      ]
     },
     "metadata": {},
     "output_type": "display_data"
    }
   ],
   "source": [
    "import cv2\n",
    "import numpy as np\n",
    "import matplotlib as plt\n",
    "from IPython.display import display\n",
    "import matplotlib.pyplot as plt\n",
    "\n",
    "# Conversion scale: 1 meter = 10 pixels\n",
    "scale = 10\n",
    "\n",
    "# Define dimensions in pixels\n",
    "SINGLE_LINE_WIDTH = int(8.23 * scale)\n",
    "DOUBLE_LINE_WIDTH = int(10.97 * scale)\n",
    "HALF_COURT_LINE_HEIGHT = int(11.88 * scale)\n",
    "SERVICE_LINE_WIDTH = int(6.4 * scale)\n",
    "DOUBLE_ALLY_DIFFERENCE = int(1.37 * scale)\n",
    "NO_MANS_LAND_HEIGHT = int(5.48 * scale)\n",
    "\n",
    "print(SINGLE_LINE_WIDTH)\n",
    "print(DOUBLE_LINE_WIDTH)\n",
    "print(HALF_COURT_LINE_HEIGHT)\n",
    "print(SERVICE_LINE_WIDTH)\n",
    "print(DOUBLE_ALLY_DIFFERENCE)\n",
    "print(NO_MANS_LAND_HEIGHT)\n",
    "\n",
    "# Calculate overall court dimensions\n",
    "court_width = DOUBLE_LINE_WIDTH\n",
    "court_length = 2 * HALF_COURT_LINE_HEIGHT\n",
    "\n",
    "# Create a blank image, white background\n",
    "# Adding 20 pixels padding around the court for visibility\n",
    "img_height = court_length + 40\n",
    "img_width = court_width + 40\n",
    "court_img = np.ones((img_height, img_width, 3), dtype=\"uint8\") * 255\n",
    "\n",
    "# Start drawing\n",
    "# Outer lines\n",
    "cv2.rectangle(court_img, (20, 20), (20+court_width, 20+court_length), (0, 0, 0), 2)\n",
    "\n",
    "# Service lines\n",
    "cv2.line(court_img, (20, 20 + HALF_COURT_LINE_HEIGHT), (20 + court_width, 20 + HALF_COURT_LINE_HEIGHT), (0, 0, 0), 2)\n",
    "cv2.line(court_img, (20 + DOUBLE_ALLY_DIFFERENCE, 20), (20 + DOUBLE_ALLY_DIFFERENCE, 20 + court_length), (0, 0, 0), 2)\n",
    "cv2.line(court_img, (20 + court_width - DOUBLE_ALLY_DIFFERENCE, 20), (20 + court_width - DOUBLE_ALLY_DIFFERENCE, 20 + court_length), (0, 0, 0), 2)\n",
    "\n",
    "# Middle line (net line, drawn as a dashed line for visibility)\n",
    "for i in range(20, court_width + 20, 20):\n",
    "    cv2.line(court_img, (i, 20 + HALF_COURT_LINE_HEIGHT), (i+10, 20 + HALF_COURT_LINE_HEIGHT), (0, 0, 255), 2)\n",
    "\n",
    "# No-man's land (The service boxes)\n",
    "cv2.rectangle(court_img, (20 + DOUBLE_ALLY_DIFFERENCE, 20 + HALF_COURT_LINE_HEIGHT - NO_MANS_LAND_HEIGHT), \n",
    "              (20 + court_width - DOUBLE_ALLY_DIFFERENCE, 20 + HALF_COURT_LINE_HEIGHT + NO_MANS_LAND_HEIGHT), (0, 0, 0), 2)\n",
    "\n",
    "\n",
    "\n",
    "# Display the court\n",
    "# Use matplotlib to display the image\n",
    "plt.imshow(cv2.cvtColor(court_img, cv2.COLOR_BGR2RGB))  # Convert BGR to RGB for displaying correctly\n",
    "plt.axis('off')  # Hide axes\n",
    "plt.show()\n"
   ]
  },
  {
   "cell_type": "code",
   "execution_count": 3,
   "id": "2e2f9ace-c725-4f18-aac1-63dd1cc904d1",
   "metadata": {
    "tags": []
   },
   "outputs": [
    {
     "name": "stdout",
     "output_type": "stream",
     "text": [
      "Image saved successfully at ./tennis_court/tennis_court.png\n"
     ]
    }
   ],
   "source": [
    "# Define the file name and path where you want to save the image\n",
    "file_path = './tennis_court/tennis_court.png'\n",
    "\n",
    "# Save the image\n",
    "cv2.imwrite(file_path, court_img)\n",
    "\n",
    "print(f\"Image saved successfully at {file_path}\")"
   ]
  },
  {
   "cell_type": "code",
   "execution_count": 8,
   "id": "c19ece78-9068-47c2-b673-5bd0ef7136c1",
   "metadata": {
    "tags": []
   },
   "outputs": [
    {
     "name": "stdout",
     "output_type": "stream",
     "text": [
      "Number of keypoints: 14\n"
     ]
    },
    {
     "data": {
      "image/png": "[encoded data removed]",
      "text/plain": [
       "<Figure size 640x480 with 1 Axes>"
      ]
     },
     "metadata": {},
     "output_type": "display_data"
    },
    {
     "name": "stdout",
     "output_type": "stream",
     "text": [
      "Shape (276, 149, 3)\n"
     ]
    }
   ],
   "source": [
    "# Define the keypoints based on the tennis court dimensions with numbered keys\n",
    "keypoints = {\n",
    "    0: (20, 20),  # top_left_corner\n",
    "    1: (20 + court_width, 20),  # top_right_corner\n",
    "    2: (20, 20 + court_length),  # bottom_left_corner\n",
    "    3: (20 + court_width, 20 + court_length),  # bottom_right_corner\n",
    "    12: (20 + court_width // 2, 25 + court_length // 4),  # center_service_line_top\n",
    "    13: (20 + court_width // 2, 15 + 3 * court_length // 4),  # center_service_line_bottom\n",
    "    4: (20 + DOUBLE_ALLY_DIFFERENCE, 20),  # left_service_line_intersection_top\n",
    "    6: (20 + court_width - DOUBLE_ALLY_DIFFERENCE, 20),  # right_service_line_intersection_top\n",
    "    8: (20 + DOUBLE_ALLY_DIFFERENCE, 25 + (HALF_COURT_LINE_HEIGHT // 2)),  # left_top_half_court\n",
    "    9: (20 + DOUBLE_ALLY_DIFFERENCE + SINGLE_LINE_WIDTH, 25 + (HALF_COURT_LINE_HEIGHT // 2)),  # right_top_half_court\n",
    "    7: (20 + DOUBLE_ALLY_DIFFERENCE + SINGLE_LINE_WIDTH, 20 + court_length),  # right_bottom_single_corner\n",
    "    5: (20 + DOUBLE_ALLY_DIFFERENCE, 20 + court_length),  # left_bottom_single_corner\n",
    "    10: (20 + DOUBLE_ALLY_DIFFERENCE, 15 + court_length - (HALF_COURT_LINE_HEIGHT // 2)),  # left_bottom_half_court\n",
    "    11: (20 + DOUBLE_ALLY_DIFFERENCE + SINGLE_LINE_WIDTH, 15 + court_length - (HALF_COURT_LINE_HEIGHT // 2))  # right_bottom_half_court\n",
    "}\n",
    "\n",
    "print(\"Number of keypoints:\", len(keypoints))\n",
    "court_img2 = court_img.copy()\n",
    "\n",
    "# Draw the keypoints on the court image\n",
    "for i, point in keypoints.items():\n",
    "    cv2.circle(court_img2, point, radius=3, color=(255, 0, 0), thickness=-1)\n",
    "    cv2.putText(court_img2, str(i), (point[0], point[1]-10), cv2.FONT_HERSHEY_SIMPLEX, 0.3, (0, 0, 255), 1)\n",
    "\n",
    "# Display the image with keypoints\n",
    "plt.imshow(cv2.cvtColor(court_img2, cv2.COLOR_BGR2RGB))  # Convert BGR to RGB for displaying correctly\n",
    "plt.axis('off')  # Hide axes\n",
    "plt.show()\n",
    "\n",
    "# Save the image with keypoints\n",
    "cv2.imwrite('./tennis_court/tennis_court_with_keypoints.png', court_img2)\n",
    "\n",
    "\n",
    "print('Shape',court_img2.shape)"
   ]
  },
  {
   "cell_type": "code",
   "execution_count": 11,
   "id": "b7095243-611e-4b4d-94a6-0fa6df598a29",
   "metadata": {
    "tags": []
   },
   "outputs": [
    {
     "name": "stdout",
     "output_type": "stream",
     "text": [
      "(276, 149, 3)\n",
      "0: (X: 20, Y: 20)\n",
      "1: (X: 129, Y: 20)\n",
      "2: (X: 20, Y: 256)\n",
      "3: (X: 129, Y: 256)\n",
      "12: (X: 74, Y: 84)\n",
      "13: (X: 74, Y: 192)\n",
      "4: (X: 33, Y: 20)\n",
      "6: (X: 116, Y: 20)\n",
      "8: (X: 33, Y: 84)\n",
      "9: (X: 115, Y: 84)\n",
      "7: (X: 115, Y: 256)\n",
      "5: (X: 33, Y: 256)\n",
      "10: (X: 33, Y: 192)\n",
      "11: (X: 115, Y: 192)\n"
     ]
    }
   ],
   "source": [
    "# Print out the keypoints and check if any are outside the image bounds\n",
    "print(court_img2.shape)\n",
    "for name, (x, y) in keypoints.items():\n",
    "    print(f\"{name}: (X: {x}, Y: {y})\")\n",
    "    if x < 0 or x > court_img2.shape[1] or y < 0 or y > court_img2.shape[0]:\n",
    "        print(f\"Warning: Keypoint {name} is outside the image bounds!\")\n"
   ]
  },
  {
   "cell_type": "code",
   "execution_count": 6,
   "id": "4b934337-2c97-41e9-a79b-1491b096b8b6",
   "metadata": {
    "tags": []
   },
   "outputs": [],
   "source": [
    "import json\n",
    "\n",
    "# Assuming 'keypoints' is your dictionary or list of keypoints\n",
    "keypoints_data = {'keypoints': keypoints}\n",
    "\n",
    "# Choose a file name\n",
    "filename = './keypoints.json'\n",
    "\n",
    "# Write the keypoints data to a JSON file\n",
    "with open(filename, 'w') as file:\n",
    "    json.dump(keypoints_data, file)\n"
   ]
  },
  {
   "cell_type": "markdown",
   "id": "9e66a58e-658d-4fd1-9785-336572109ef6",
   "metadata": {},
   "source": [
    "# Homography Transformation"
   ]
  },
  {
   "cell_type": "code",
   "execution_count": null,
   "id": "64d6aa3f-1dd9-4363-ad5d-334f5a25b4ce",
   "metadata": {},
   "outputs": [],
   "source": [
    "\n",
    "# Assuming 'predicted_keypoints' are your model predictions\n",
    "# For demonstration, let's create a placeholder for these predicted keypoints\n",
    "\n",
    "predicted_keypoints = np.array([[x1, y1], [x2, y2], ..., [x14, y14]])\n",
    "\n",
    "# Convert source keypoints from the dictionary to an ordered list of tuples\n",
    "source_keypoints = [keypoints[i] for i in sorted(keypoints.keys())]\n",
    "\n",
    "# Ensure 'source_keypoints' and 'predicted_keypoints' are in the same order of corresponding points\n",
    "\n",
    "# Calculate the homography matrix\n",
    "H, _ = cv2.findHomography(np.array(source_keypoints), predicted_keypoints, method=cv2.RANSAC)\n",
    "\n",
    "# To transform a source image to match the perspective of the detected keypoints\n",
    "# warped_image = cv2.warpPerspective(source_image, H, (destination_width, destination_height))\n",
    "\n",
    "# Or, if you're just transforming points (e.g., other keypoints, not part of the model prediction)\n",
    "# transformed_points = cv2.perspectiveTransform(np.array([other_source_points]), H)\n"
   ]
  }
 ],
 "metadata": {
  "kernelspec": {
   "display_name": "default:Python",
   "language": "python",
   "name": "conda-env-default-py"
  },
  "language_info": {
   "codemirror_mode": {
    "name": "ipython",
    "version": 3
   },
   "file_extension": ".py",
   "mimetype": "text/x-python",
   "name": "python",
   "nbconvert_exporter": "python",
   "pygments_lexer": "ipython3",
   "version": "3.9.16"
  }
 },
 "nbformat": 4,
 "nbformat_minor": 5
}
